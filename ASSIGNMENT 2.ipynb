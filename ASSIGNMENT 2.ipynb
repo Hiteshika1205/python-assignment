{
 "cells": [
  {
   "cell_type": "code",
   "execution_count": 1,
   "metadata": {},
   "outputs": [
    {
     "name": "stdout",
     "output_type": "stream",
     "text": [
      "15\n"
     ]
    }
   ],
   "source": [
    "#list methods in python\n",
    "#1. sum() : Calculates sum of all the elements of List\n",
    "List = [1, 2, 3, 4, 5] \n",
    "print(sum(List)) "
   ]
  },
  {
   "cell_type": "code",
   "execution_count": 2,
   "metadata": {},
   "outputs": [
    {
     "name": "stdout",
     "output_type": "stream",
     "text": [
      "4\n"
     ]
    }
   ],
   "source": [
    "#2.count():Calculates total occurrence of given element of List.\n",
    "List = [1, 2, 3, 1, 2, 1, 2, 3, 2, 1] \n",
    "print(List.count(1)) "
   ]
  },
  {
   "cell_type": "code",
   "execution_count": 5,
   "metadata": {},
   "outputs": [
    {
     "name": "stdout",
     "output_type": "stream",
     "text": [
      "[5.33, 4.445, 3, 2.5, 2.3, 1.054]\n"
     ]
    }
   ],
   "source": [
    "#3.reverse(): Sort the given data structure (both tuple and list) in ascending order. \n",
    "#Key and reverse_flag are not necessary parameter and reverse_flag is set to False,\n",
    "#if nothing is passed through sorted().\n",
    "List = [2.3, 4.445, 3, 5.33, 1.054, 2.5] \n",
    "  \n",
    "#Reverse flag is set True \n",
    "List.sort(reverse=True)  \n",
    "  \n",
    "#List.sort().reverse(), reverses the sorted list   \n",
    "print(List) "
   ]
  },
  {
   "cell_type": "code",
   "execution_count": 6,
   "metadata": {},
   "outputs": [
    {
     "name": "stdout",
     "output_type": "stream",
     "text": [
      "[2.3, 4.445, 5.33, 1.054, 2.5]\n"
     ]
    }
   ],
   "source": [
    "#4remove(): Element to be deleted is mentioned using list name and element.\n",
    "List = [2.3, 4.445, 3, 5.33, 1.054, 2.5] \n",
    "List.remove(3) \n",
    "print(List) "
   ]
  },
  {
   "cell_type": "code",
   "execution_count": 9,
   "metadata": {},
   "outputs": [
    {
     "name": "stdout",
     "output_type": "stream",
     "text": [
      "['code', 'geeks', 'ide', 'practice']\n"
     ]
    }
   ],
   "source": [
    "#5.This function can be used to sort list of integers, floating point number, string and others.\n",
    "strs = [\"geeks\", \"code\", \"ide\", \"practice\"] \n",
    "  \n",
    "# Sorting list of Integers in ascending \n",
    "strs.sort() \n",
    "  \n",
    "print(strs) "
   ]
  },
  {
   "cell_type": "code",
   "execution_count": null,
   "metadata": {},
   "outputs": [],
   "source": []
  }
 ],
 "metadata": {
  "kernelspec": {
   "display_name": "Python 3",
   "language": "python",
   "name": "python3"
  },
  "language_info": {
   "codemirror_mode": {
    "name": "ipython",
    "version": 3
   },
   "file_extension": ".py",
   "mimetype": "text/x-python",
   "name": "python",
   "nbconvert_exporter": "python",
   "pygments_lexer": "ipython3",
   "version": "3.7.6"
  }
 },
 "nbformat": 4,
 "nbformat_minor": 4
}
