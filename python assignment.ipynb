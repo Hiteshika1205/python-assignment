{
 "cells": [
  {
   "cell_type": "code",
   "execution_count": 21,
   "metadata": {},
   "outputs": [
    {
     "name": "stdout",
     "output_type": "stream",
     "text": [
      "YES\n"
     ]
    }
   ],
   "source": [
    "# function to check if small string is  \n",
    "# there in big string\n",
    "#-method 1\n",
    "def check(string, sub_str): \n",
    "    if (string.find(sub_str) == -1): \n",
    "        print(\"NO\") \n",
    "    else: \n",
    "        print(\"YES\") \n",
    "            \n",
    "# driver code \n",
    "string = \"welcome to python\"\n",
    "sub_str =\"to\"\n",
    "check(string, sub_str) "
   ]
  },
  {
   "cell_type": "code",
   "execution_count": 22,
   "metadata": {},
   "outputs": [
    {
     "name": "stdout",
     "output_type": "stream",
     "text": [
      "YES\n"
     ]
    }
   ],
   "source": [
    "# function to check if small string is  \n",
    "# there in big string\n",
    "#method 2 ,using \"count()\" method\n",
    "def check(s2, s1):  \n",
    "    if (s2.count(s1)>0):      \n",
    "        print(\"YES\")  \n",
    "    else:  \n",
    "        print(\"NO\")  \n",
    "              \n",
    "s2 = \"welcome to python\"\n",
    "s1 =\"to\"\n",
    "check(s2, s1)  "
   ]
  },
  {
   "cell_type": "code",
   "execution_count": 23,
   "metadata": {},
   "outputs": [
    {
     "name": "stdout",
     "output_type": "stream",
     "text": [
      "YES,string 'to' is present in string 'welcome to python' \n"
     ]
    }
   ],
   "source": [
    "# function to check if small string is  \n",
    "# there in big string\n",
    "#method 3, When you have imported the re module, you can start using regular expressions. \n",
    "import re \n",
    "  \n",
    "# Take input from users \n",
    "MyString1 =  \"welcome to python\"\n",
    "MyString2 =\"to\"\n",
    "  \n",
    "# re.search() returns a Match object if there is a match anywhere in the string \n",
    "if re.search( MyString2, MyString1 ): \n",
    "    print(\"YES,string '{0}' is present in string '{1}' \" .format(MyString2,MyString1)) \n",
    "else: \n",
    "    print(\"NO,string '{0}' is not present in string {1} \" .format(MyString2, MyString1) ) "
   ]
  },
  {
   "cell_type": "code",
   "execution_count": 14,
   "metadata": {},
   "outputs": [
    {
     "name": "stdout",
     "output_type": "stream",
     "text": [
      "xyz     12345   abc\n"
     ]
    }
   ],
   "source": [
    "#inbuilt functions of string-\n",
    "#1 - expandtabs()\n",
    "#The expandtabs() method returns a copy of string with all tab characters '\\t' \n",
    "#replaced with whitespace characters until the next multiple of tabsize parameter.\n",
    "str= 'xyz\\t12345\\tabc'\n",
    "\n",
    "# no argument is passed\n",
    "# default tabsize is 8\n",
    "result = str.expandtabs()\n",
    "\n",
    "print(result)"
   ]
  },
  {
   "cell_type": "code",
   "execution_count": 20,
   "metadata": {},
   "outputs": [
    {
     "name": "stdout",
     "output_type": "stream",
     "text": [
      "True\n",
      "False\n",
      "False\n"
     ]
    }
   ],
   "source": [
    "#inbuilt functions of string-\n",
    "# 2- isdecimal()\n",
    "#The isdecimal() method returns True if all characters in a string are decimal characters. If not, it returns False.\n",
    "s = \"28212\"\n",
    "print(s.isdecimal())\n",
    "\n",
    "# contains alphabets\n",
    "s = \"32ladk3\"\n",
    "print(s.isdecimal())\n",
    "\n",
    "# contains alphabets and spaces\n",
    "s = \"Mo3 nicaG el l22er\"\n",
    "print(s.isdecimal())\n"
   ]
  },
  {
   "cell_type": "code",
   "execution_count": 17,
   "metadata": {},
   "outputs": [
    {
     "name": "stdout",
     "output_type": "stream",
     "text": [
      "True\n",
      "False\n",
      "True\n",
      "True\n"
     ]
    }
   ],
   "source": [
    "#inbuilt functions of string-\n",
    "#3-working of isalnum()\n",
    "#The isalnum() method returns True if all characters in the string are alphanumeric (either alphabets or numbers).\n",
    "#If not, it returns False.\n",
    "name = \"M234onica\"\n",
    "print(name.isalnum())\n",
    "\n",
    "# contains whitespace\n",
    "name = \"M3onica Gell22er \"\n",
    "print(name.isalnum())\n",
    "\n",
    "name = \"Mo3nicaGell22er\"\n",
    "print(name.isalnum())\n",
    "\n",
    "name = \"133\"\n",
    "print(name.isalnum())"
   ]
  },
  {
   "cell_type": "code",
   "execution_count": 18,
   "metadata": {},
   "outputs": [
    {
     "name": "stdout",
     "output_type": "stream",
     "text": [
      "True\n",
      "False\n",
      "False\n"
     ]
    }
   ],
   "source": [
    "#inbuilt functions of string-\n",
    "#4-working of islapha()\n",
    "#The isalpha() method returns True if all characters in the string are alphabets. If not, it returns False.\n",
    "name = \"Monica\"\n",
    "print(name.isalpha())\n",
    "\n",
    "# contains whitespace\n",
    "name = \"Monica Geller\"\n",
    "print(name.isalpha())\n",
    "\n",
    "# contains number\n",
    "name = \"Mo3nicaGell22er\"\n",
    "print(name.isalpha())"
   ]
  },
  {
   "cell_type": "code",
   "execution_count": 19,
   "metadata": {},
   "outputs": [
    {
     "name": "stdout",
     "output_type": "stream",
     "text": [
      "True\n",
      "False\n"
     ]
    }
   ],
   "source": [
    "##inbuilt functions of string-\n",
    "#5-Python String isdigit()\n",
    "#The isdigit() method returns True if all characters in a string are digits. If not, it returns False.\n",
    "s = \"28212\"\n",
    "print(s.isdigit())\n",
    "\n",
    "# contains alphabets and spaces\n",
    "s = \"Mo3 nicaG el l22er\"\n",
    "print(s.isdigit())"
   ]
  },
  {
   "cell_type": "code",
   "execution_count": null,
   "metadata": {},
   "outputs": [],
   "source": []
  }
 ],
 "metadata": {
  "kernelspec": {
   "display_name": "Python 3",
   "language": "python",
   "name": "python3"
  },
  "language_info": {
   "codemirror_mode": {
    "name": "ipython",
    "version": 3
   },
   "file_extension": ".py",
   "mimetype": "text/x-python",
   "name": "python",
   "nbconvert_exporter": "python",
   "pygments_lexer": "ipython3",
   "version": "3.7.6"
  }
 },
 "nbformat": 4,
 "nbformat_minor": 4
}
